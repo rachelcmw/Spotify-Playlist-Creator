{
 "cells": [
  {
   "cell_type": "code",
   "execution_count": 1,
   "metadata": {},
   "outputs": [],
   "source": [
    "from bs4 import BeautifulSoup\n",
    "import requests\n",
    "import lxml"
   ]
  },
  {
   "cell_type": "code",
   "execution_count": 75,
   "metadata": {},
   "outputs": [],
   "source": [
    "import spotipy\n",
    "from spotipy.oauth2 import SpotifyOAuth"
   ]
  },
  {
   "cell_type": "code",
   "execution_count": 112,
   "metadata": {},
   "outputs": [],
   "source": [
    "date = input(\"Which year do you want to travel to? Type the date in this format YYYY-MM-DD: \")\n",
    "year = date.split(\"-\")[0]"
   ]
  },
  {
   "cell_type": "code",
   "execution_count": 97,
   "metadata": {},
   "outputs": [],
   "source": [
    "response = requests.get(url=\"https://www.billboard.com/charts/hot-100/2000-07-20/\")\n",
    "songs_html = response.text"
   ]
  },
  {
   "cell_type": "code",
   "execution_count": 98,
   "metadata": {},
   "outputs": [],
   "source": [
    "soup = BeautifulSoup(songs_html, \"html.parser\")"
   ]
  },
  {
   "cell_type": "code",
   "execution_count": 99,
   "metadata": {},
   "outputs": [],
   "source": [
    "all_titles = soup.select(selector=\"li h3\")"
   ]
  },
  {
   "cell_type": "code",
   "execution_count": 100,
   "metadata": {},
   "outputs": [],
   "source": [
    "titles = []"
   ]
  },
  {
   "cell_type": "code",
   "execution_count": 101,
   "metadata": {},
   "outputs": [],
   "source": [
    "for title in all_titles:\n",
    "    text = title.getText()\n",
    "    titles.append(text)"
   ]
  },
  {
   "cell_type": "code",
   "execution_count": 102,
   "metadata": {},
   "outputs": [
    {
     "data": {
      "text/plain": [
       "['\\n\\n\\t\\n\\t\\n\\t\\t\\n\\t\\t\\t\\t\\tBent\\t\\t\\n\\t\\n',\n",
       " '\\n\\n\\t\\n\\t\\n\\t\\t\\n\\t\\t\\t\\t\\tEverything You Want\\t\\t\\n\\t\\n',\n",
       " '\\n\\n\\t\\n\\t\\n\\t\\t\\n\\t\\t\\t\\t\\tTry Again\\t\\t\\n\\t\\n',\n",
       " \"\\n\\n\\t\\n\\t\\n\\t\\t\\n\\t\\t\\t\\t\\tIt's Gonna Be Me\\t\\t\\n\\t\\n\",\n",
       " '\\n\\n\\t\\n\\t\\n\\t\\t\\n\\t\\t\\t\\t\\tI Wanna Know\\t\\t\\n\\t\\n',\n",
       " '\\n\\n\\t\\n\\t\\n\\t\\t\\n\\t\\t\\t\\t\\tAbsolutely (Story Of A Girl)\\t\\t\\n\\t\\n',\n",
       " '\\n\\n\\t\\n\\t\\n\\t\\t\\n\\t\\t\\t\\t\\tHigher\\t\\t\\n\\t\\n',\n",
       " '\\n\\n\\t\\n\\t\\n\\t\\t\\n\\t\\t\\t\\t\\tThere You Go\\t\\t\\n\\t\\n',\n",
       " '\\n\\n\\t\\n\\t\\n\\t\\t\\n\\t\\t\\t\\t\\tThe Real Slim Shady\\t\\t\\n\\t\\n',\n",
       " '\\n\\n\\t\\n\\t\\n\\t\\t\\n\\t\\t\\t\\t\\tI Turn To You\\t\\t\\n\\t\\n',\n",
       " '\\n\\n\\t\\n\\t\\n\\t\\t\\n\\t\\t\\t\\t\\tBe With You\\t\\t\\n\\t\\n',\n",
       " \"\\n\\n\\t\\n\\t\\n\\t\\t\\n\\t\\t\\t\\t\\tHe Wasn't Man Enough\\t\\t\\n\\t\\n\",\n",
       " \"\\n\\n\\t\\n\\t\\n\\t\\t\\n\\t\\t\\t\\t\\tJumpin', Jumpin'\\t\\t\\n\\t\\n\",\n",
       " '\\n\\n\\t\\n\\t\\n\\t\\t\\n\\t\\t\\t\\t\\tBreathe\\t\\t\\n\\t\\n',\n",
       " \"\\n\\n\\t\\n\\t\\n\\t\\t\\n\\t\\t\\t\\t\\tLet's Get Married\\t\\t\\n\\t\\n\",\n",
       " '\\n\\n\\t\\n\\t\\n\\t\\t\\n\\t\\t\\t\\t\\tYou Sang To Me\\t\\t\\n\\t\\n',\n",
       " '\\n\\n\\t\\n\\t\\n\\t\\t\\n\\t\\t\\t\\t\\tNo More\\t\\t\\n\\t\\n',\n",
       " '\\n\\n\\t\\n\\t\\n\\t\\t\\n\\t\\t\\t\\t\\tBack Here\\t\\t\\n\\t\\n',\n",
       " '\\n\\n\\t\\n\\t\\n\\t\\t\\n\\t\\t\\t\\t\\tDesert Rose\\t\\t\\n\\t\\n',\n",
       " \"\\n\\n\\t\\n\\t\\n\\t\\t\\n\\t\\t\\t\\t\\tBig Pimpin'\\t\\t\\n\\t\\n\",\n",
       " '\\n\\n\\t\\n\\t\\n\\t\\t\\n\\t\\t\\t\\t\\tI Try\\t\\t\\n\\t\\n',\n",
       " \"\\n\\n\\t\\n\\t\\n\\t\\t\\n\\t\\t\\t\\t\\tDoesn't Really Matter\\t\\t\\n\\t\\n\",\n",
       " '\\n\\n\\t\\n\\t\\n\\t\\t\\n\\t\\t\\t\\t\\t(Hot S**t) Country Grammar\\t\\t\\n\\t\\n',\n",
       " '\\n\\n\\t\\n\\t\\n\\t\\t\\n\\t\\t\\t\\t\\tOops!...I Did It Again\\t\\t\\n\\t\\n',\n",
       " '\\n\\n\\t\\n\\t\\n\\t\\t\\n\\t\\t\\t\\t\\tWifey\\t\\t\\n\\t\\n',\n",
       " '\\n\\n\\t\\n\\t\\n\\t\\t\\n\\t\\t\\t\\t\\tThe Next Episode\\t\\t\\n\\t\\n',\n",
       " '\\n\\n\\t\\n\\t\\n\\t\\t\\n\\t\\t\\t\\t\\tSeparated\\t\\t\\n\\t\\n',\n",
       " '\\n\\n\\t\\n\\t\\n\\t\\t\\n\\t\\t\\t\\t\\tKryptonite\\t\\t\\n\\t\\n',\n",
       " \"\\n\\n\\t\\n\\t\\n\\t\\t\\n\\t\\t\\t\\t\\tI Think I'm In Love With You\\t\\t\\n\\t\\n\",\n",
       " '\\n\\n\\t\\n\\t\\n\\t\\t\\n\\t\\t\\t\\t\\tSwear It Again\\t\\t\\n\\t\\n',\n",
       " '\\n\\n\\t\\n\\t\\n\\t\\t\\n\\t\\t\\t\\t\\tThong Song\\t\\t\\n\\t\\n',\n",
       " '\\n\\n\\t\\n\\t\\n\\t\\t\\n\\t\\t\\t\\t\\tPurest Of Pain (A Puro Dolor)\\t\\t\\n\\t\\n',\n",
       " \"\\n\\n\\t\\n\\t\\n\\t\\t\\n\\t\\t\\t\\t\\tWhat'Chu Like\\t\\t\\n\\t\\n\",\n",
       " '\\n\\n\\t\\n\\t\\n\\t\\t\\n\\t\\t\\t\\t\\tWhere I Wanna Be\\t\\t\\n\\t\\n',\n",
       " '\\n\\n\\t\\n\\t\\n\\t\\t\\n\\t\\t\\t\\t\\tI Hope You Dance\\t\\t\\n\\t\\n',\n",
       " '\\n\\n\\t\\n\\t\\n\\t\\t\\n\\t\\t\\t\\t\\tMaria Maria\\t\\t\\n\\t\\n',\n",
       " '\\n\\n\\t\\n\\t\\n\\t\\t\\n\\t\\t\\t\\t\\tAmazed\\t\\t\\n\\t\\n',\n",
       " '\\n\\n\\t\\n\\t\\n\\t\\t\\n\\t\\t\\t\\t\\tSimple Kind Of Life\\t\\t\\n\\t\\n',\n",
       " '\\n\\n\\t\\n\\t\\n\\t\\t\\n\\t\\t\\t\\t\\tYes!\\t\\t\\n\\t\\n',\n",
       " '\\n\\n\\t\\n\\t\\n\\t\\t\\n\\t\\t\\t\\t\\tDance Tonight\\t\\t\\n\\t\\n',\n",
       " '\\n\\n\\t\\n\\t\\n\\t\\t\\n\\t\\t\\t\\t\\tSmooth\\t\\t\\n\\t\\n',\n",
       " '\\n\\n\\t\\n\\t\\n\\t\\t\\n\\t\\t\\t\\t\\tI Wanna Be With You\\t\\t\\n\\t\\n',\n",
       " '\\n\\n\\t\\n\\t\\n\\t\\t\\n\\t\\t\\t\\t\\tSay My Name\\t\\t\\n\\t\\n',\n",
       " '\\n\\n\\t\\n\\t\\n\\t\\t\\n\\t\\t\\t\\t\\tI Wish\\t\\t\\n\\t\\n',\n",
       " '\\n\\n\\t\\n\\t\\n\\t\\t\\n\\t\\t\\t\\t\\tI Will Love Again\\t\\t\\n\\t\\n',\n",
       " \"\\n\\n\\t\\n\\t\\n\\t\\t\\n\\t\\t\\t\\t\\tPrayin' For Daylight\\t\\t\\n\\t\\n\",\n",
       " '\\n\\n\\t\\n\\t\\n\\t\\t\\n\\t\\t\\t\\t\\tWhat About Now\\t\\t\\n\\t\\n',\n",
       " '\\n\\n\\t\\n\\t\\n\\t\\t\\n\\t\\t\\t\\t\\tBroadway\\t\\t\\n\\t\\n',\n",
       " '\\n\\n\\t\\n\\t\\n\\t\\t\\n\\t\\t\\t\\t\\tCrash And Burn\\t\\t\\n\\t\\n',\n",
       " \"\\n\\n\\t\\n\\t\\n\\t\\t\\n\\t\\t\\t\\t\\tThat's The Way\\t\\t\\n\\t\\n\",\n",
       " '\\n\\n\\t\\n\\t\\n\\t\\t\\n\\t\\t\\t\\t\\tI Need You\\t\\t\\n\\t\\n',\n",
       " \"\\n\\n\\t\\n\\t\\n\\t\\t\\n\\t\\t\\t\\t\\tI'll Be\\t\\t\\n\\t\\n\",\n",
       " '\\n\\n\\t\\n\\t\\n\\t\\t\\n\\t\\t\\t\\t\\tWonderful\\t\\t\\n\\t\\n',\n",
       " '\\n\\n\\t\\n\\t\\n\\t\\t\\n\\t\\t\\t\\t\\tWhatever\\t\\t\\n\\t\\n',\n",
       " '\\n\\n\\t\\n\\t\\n\\t\\t\\n\\t\\t\\t\\t\\tThe One\\t\\t\\n\\t\\n',\n",
       " '\\n\\n\\t\\n\\t\\n\\t\\t\\n\\t\\t\\t\\t\\tOne Voice\\t\\t\\n\\t\\n',\n",
       " '\\n\\n\\t\\n\\t\\n\\t\\t\\n\\t\\t\\t\\t\\tIt Must Be Love\\t\\t\\n\\t\\n',\n",
       " '\\n\\n\\t\\n\\t\\n\\t\\t\\n\\t\\t\\t\\t\\tSome Things Never Change\\t\\t\\n\\t\\n',\n",
       " '\\n\\n\\t\\n\\t\\n\\t\\t\\n\\t\\t\\t\\t\\tCould I Have This Kiss Forever\\t\\t\\n\\t\\n',\n",
       " '\\n\\n\\t\\n\\t\\n\\t\\t\\n\\t\\t\\t\\t\\tFlowers On The Wall\\t\\t\\n\\t\\n',\n",
       " '\\n\\n\\t\\n\\t\\n\\t\\t\\n\\t\\t\\t\\t\\tIncomplete\\t\\t\\n\\t\\n',\n",
       " '\\n\\n\\t\\n\\t\\n\\t\\t\\n\\t\\t\\t\\t\\tUnconditional\\t\\t\\n\\t\\n',\n",
       " '\\n\\n\\t\\n\\t\\n\\t\\t\\n\\t\\t\\t\\t\\tBetter Off Alone\\t\\t\\n\\t\\n',\n",
       " '\\n\\n\\t\\n\\t\\n\\t\\t\\n\\t\\t\\t\\t\\tThe Way You Love Me\\t\\t\\n\\t\\n',\n",
       " '\\n\\n\\t\\n\\t\\n\\t\\t\\n\\t\\t\\t\\t\\tI Think God Can Explain\\t\\t\\n\\t\\n',\n",
       " '\\n\\n\\t\\n\\t\\n\\t\\t\\n\\t\\t\\t\\t\\tTaking You Home\\t\\t\\n\\t\\n',\n",
       " '\\n\\n\\t\\n\\t\\n\\t\\t\\n\\t\\t\\t\\t\\tChange Your Mind\\t\\t\\n\\t\\n',\n",
       " '\\n\\n\\t\\n\\t\\n\\t\\t\\n\\t\\t\\t\\t\\tCold Day In July\\t\\t\\n\\t\\n',\n",
       " '\\n\\n\\t\\n\\t\\n\\t\\t\\n\\t\\t\\t\\t\\tAs We Lay\\t\\t\\n\\t\\n',\n",
       " '\\n\\n\\t\\n\\t\\n\\t\\t\\n\\t\\t\\t\\t\\tWith Arms Wide Open\\t\\t\\n\\t\\n',\n",
       " '\\n\\n\\t\\n\\t\\n\\t\\t\\n\\t\\t\\t\\t\\tThe Chain Of Love\\t\\t\\n\\t\\n',\n",
       " '\\n\\n\\t\\n\\t\\n\\t\\t\\n\\t\\t\\t\\t\\tNo Matter What They Say\\t\\t\\n\\t\\n',\n",
       " \"\\n\\n\\t\\n\\t\\n\\t\\t\\n\\t\\t\\t\\t\\tCouldn't Last A Moment\\t\\t\\n\\t\\n\",\n",
       " '\\n\\n\\t\\n\\t\\n\\t\\t\\n\\t\\t\\t\\t\\tI Will...But\\t\\t\\n\\t\\n',\n",
       " '\\n\\n\\t\\n\\t\\n\\t\\t\\n\\t\\t\\t\\t\\tSame Script, Different Cast\\t\\t\\n\\t\\n',\n",
       " '\\n\\n\\t\\n\\t\\n\\t\\t\\n\\t\\t\\t\\t\\tShackles (Praise You)\\t\\t\\n\\t\\n',\n",
       " '\\n\\n\\t\\n\\t\\n\\t\\t\\n\\t\\t\\t\\t\\tCrybaby\\t\\t\\n\\t\\n',\n",
       " '\\n\\n\\t\\n\\t\\n\\t\\t\\n\\t\\t\\t\\t\\tWobble Wobble\\t\\t\\n\\t\\n',\n",
       " '\\n\\n\\t\\n\\t\\n\\t\\t\\n\\t\\t\\t\\t\\tSour Girl\\t\\t\\n\\t\\n',\n",
       " '\\n\\n\\t\\n\\t\\n\\t\\t\\n\\t\\t\\t\\t\\tYour Everything\\t\\t\\n\\t\\n',\n",
       " '\\n\\n\\t\\n\\t\\n\\t\\t\\n\\t\\t\\t\\t\\tFaded\\t\\t\\n\\t\\n',\n",
       " \"\\n\\n\\t\\n\\t\\n\\t\\t\\n\\t\\t\\t\\t\\tYou'll Always Be Loved By Me\\t\\t\\n\\t\\n\",\n",
       " '\\n\\n\\t\\n\\t\\n\\t\\t\\n\\t\\t\\t\\t\\tI Disappear\\t\\t\\n\\t\\n',\n",
       " '\\n\\n\\t\\n\\t\\n\\t\\t\\n\\t\\t\\t\\t\\tWhen You Need My Love\\t\\t\\n\\t\\n',\n",
       " \"\\n\\n\\t\\n\\t\\n\\t\\t\\n\\t\\t\\t\\t\\tShe's More\\t\\t\\n\\t\\n\",\n",
       " '\\n\\n\\t\\n\\t\\n\\t\\t\\n\\t\\t\\t\\t\\tBest Of Me\\t\\t\\n\\t\\n',\n",
       " '\\n\\n\\t\\n\\t\\n\\t\\t\\n\\t\\t\\t\\t\\tWhat You Want\\t\\t\\n\\t\\n',\n",
       " '\\n\\n\\t\\n\\t\\n\\t\\t\\n\\t\\t\\t\\t\\tGot It All\\t\\t\\n\\t\\n',\n",
       " '\\n\\n\\t\\n\\t\\n\\t\\t\\n\\t\\t\\t\\t\\tTake That\\t\\t\\n\\t\\n',\n",
       " '\\n\\n\\t\\n\\t\\n\\t\\t\\n\\t\\t\\t\\t\\tMirror Mirror\\t\\t\\n\\t\\n',\n",
       " '\\n\\n\\t\\n\\t\\n\\t\\t\\n\\t\\t\\t\\t\\tBuy Me A Rose\\t\\t\\n\\t\\n',\n",
       " '\\n\\n\\t\\n\\t\\n\\t\\t\\n\\t\\t\\t\\t\\tShut Up\\t\\t\\n\\t\\n',\n",
       " \"\\n\\n\\t\\n\\t\\n\\t\\t\\n\\t\\t\\t\\t\\tDon't Call Me Baby\\t\\t\\n\\t\\n\",\n",
       " '\\n\\n\\t\\n\\t\\n\\t\\t\\n\\t\\t\\t\\t\\tSomeday Out Of The Blue\\t\\t\\n\\t\\n',\n",
       " '\\n\\n\\t\\n\\t\\n\\t\\t\\n\\t\\t\\t\\t\\tWhat I Need To Do\\t\\t\\n\\t\\n',\n",
       " '\\n\\n\\t\\n\\t\\n\\t\\t\\n\\t\\t\\t\\t\\tDancing Queen\\t\\t\\n\\t\\n',\n",
       " '\\n\\n\\t\\n\\t\\n\\t\\t\\n\\t\\t\\t\\t\\t3 Little Words\\t\\t\\n\\t\\n',\n",
       " \"\\n\\n\\t\\n\\t\\n\\t\\t\\n\\t\\t\\t\\t\\tIt's So Hard\\t\\t\\n\\t\\n\",\n",
       " '\\n\\n\\t\\n\\t\\n\\t\\t\\n\\t\\t\\t\\t\\tWho Let The Dogs Out\\t\\t\\n\\t\\n',\n",
       " '\\n\\n\\t\\n\\t\\n\\t\\t\\n\\t\\t\\t\\t\\tCarlene\\t\\t\\n\\t\\n',\n",
       " '\\n\\n\\tAccount\\n\\n\\n\\n\\n\\n\\n',\n",
       " '\\n\\n\\tCharts\\n\\n\\n\\n\\t\\t\\t\\t\\tExpand charts menu\\t\\t\\t\\t\\n\\n\\n',\n",
       " '\\n\\n\\tMusic\\n\\n\\n\\n\\t\\t\\t\\t\\tExpand music menu\\t\\t\\t\\t\\n\\n\\n',\n",
       " '\\n\\n\\tCulture\\n\\n\\n\\n\\t\\t\\t\\t\\tExpand culture menu\\t\\t\\t\\t\\n\\n\\n',\n",
       " '\\n\\n\\tMedia\\n\\n\\n\\n\\t\\t\\t\\t\\tExpand media menu\\t\\t\\t\\t\\n\\n\\n',\n",
       " '\\n\\n\\tBusiness\\n\\n\\n\\n\\t\\t\\t\\t\\tExpand business menu\\t\\t\\t\\t\\n\\n\\n',\n",
       " '\\n\\n\\tPro Tools\\n\\n\\n\\n\\t\\t\\t\\t\\tExpand pro-tools menu\\t\\t\\t\\t\\n\\n\\n',\n",
       " '\\n\\n\\tBillboard Español\\n\\n\\n\\n\\t\\t\\t\\t\\tExpand billboard-espanol menu\\t\\t\\t\\t\\n\\n\\n',\n",
       " '\\n\\n\\tHonda Music\\n\\n\\n\\n\\t\\t\\t\\t\\tExpand honda-music menu\\t\\t\\t\\t\\n\\n\\n']"
      ]
     },
     "execution_count": 102,
     "metadata": {},
     "output_type": "execute_result"
    }
   ],
   "source": [
    "titles"
   ]
  },
  {
   "cell_type": "code",
   "execution_count": 104,
   "metadata": {},
   "outputs": [],
   "source": [
    "for i in range(0,101):\n",
    "    new_title = titles[i].replace(\"\\n\", \"\")\n",
    "    titles[i] = new_title"
   ]
  },
  {
   "cell_type": "code",
   "execution_count": 105,
   "metadata": {},
   "outputs": [],
   "source": [
    "for i in range(0,101):\n",
    "    new_title = titles[i].replace(\"\\t\", \"\")\n",
    "    titles[i] = new_title"
   ]
  },
  {
   "cell_type": "code",
   "execution_count": 106,
   "metadata": {},
   "outputs": [],
   "source": [
    "titles = titles[:100]"
   ]
  },
  {
   "cell_type": "code",
   "execution_count": 107,
   "metadata": {},
   "outputs": [
    {
     "data": {
      "text/plain": [
       "['Bent',\n",
       " 'Everything You Want',\n",
       " 'Try Again',\n",
       " \"It's Gonna Be Me\",\n",
       " 'I Wanna Know',\n",
       " 'Absolutely (Story Of A Girl)',\n",
       " 'Higher',\n",
       " 'There You Go',\n",
       " 'The Real Slim Shady',\n",
       " 'I Turn To You',\n",
       " 'Be With You',\n",
       " \"He Wasn't Man Enough\",\n",
       " \"Jumpin', Jumpin'\",\n",
       " 'Breathe',\n",
       " \"Let's Get Married\",\n",
       " 'You Sang To Me',\n",
       " 'No More',\n",
       " 'Back Here',\n",
       " 'Desert Rose',\n",
       " \"Big Pimpin'\",\n",
       " 'I Try',\n",
       " \"Doesn't Really Matter\",\n",
       " '(Hot S**t) Country Grammar',\n",
       " 'Oops!...I Did It Again',\n",
       " 'Wifey',\n",
       " 'The Next Episode',\n",
       " 'Separated',\n",
       " 'Kryptonite',\n",
       " \"I Think I'm In Love With You\",\n",
       " 'Swear It Again',\n",
       " 'Thong Song',\n",
       " 'Purest Of Pain (A Puro Dolor)',\n",
       " \"What'Chu Like\",\n",
       " 'Where I Wanna Be',\n",
       " 'I Hope You Dance',\n",
       " 'Maria Maria',\n",
       " 'Amazed',\n",
       " 'Simple Kind Of Life',\n",
       " 'Yes!',\n",
       " 'Dance Tonight',\n",
       " 'Smooth',\n",
       " 'I Wanna Be With You',\n",
       " 'Say My Name',\n",
       " 'I Wish',\n",
       " 'I Will Love Again',\n",
       " \"Prayin' For Daylight\",\n",
       " 'What About Now',\n",
       " 'Broadway',\n",
       " 'Crash And Burn',\n",
       " \"That's The Way\",\n",
       " 'I Need You',\n",
       " \"I'll Be\",\n",
       " 'Wonderful',\n",
       " 'Whatever',\n",
       " 'The One',\n",
       " 'One Voice',\n",
       " 'It Must Be Love',\n",
       " 'Some Things Never Change',\n",
       " 'Could I Have This Kiss Forever',\n",
       " 'Flowers On The Wall',\n",
       " 'Incomplete',\n",
       " 'Unconditional',\n",
       " 'Better Off Alone',\n",
       " 'The Way You Love Me',\n",
       " 'I Think God Can Explain',\n",
       " 'Taking You Home',\n",
       " 'Change Your Mind',\n",
       " 'Cold Day In July',\n",
       " 'As We Lay',\n",
       " 'With Arms Wide Open',\n",
       " 'The Chain Of Love',\n",
       " 'No Matter What They Say',\n",
       " \"Couldn't Last A Moment\",\n",
       " 'I Will...But',\n",
       " 'Same Script, Different Cast',\n",
       " 'Shackles (Praise You)',\n",
       " 'Crybaby',\n",
       " 'Wobble Wobble',\n",
       " 'Sour Girl',\n",
       " 'Your Everything',\n",
       " 'Faded',\n",
       " \"You'll Always Be Loved By Me\",\n",
       " 'I Disappear',\n",
       " 'When You Need My Love',\n",
       " \"She's More\",\n",
       " 'Best Of Me',\n",
       " 'What You Want',\n",
       " 'Got It All',\n",
       " 'Take That',\n",
       " 'Mirror Mirror',\n",
       " 'Buy Me A Rose',\n",
       " 'Shut Up',\n",
       " \"Don't Call Me Baby\",\n",
       " 'Someday Out Of The Blue',\n",
       " 'What I Need To Do',\n",
       " 'Dancing Queen',\n",
       " '3 Little Words',\n",
       " \"It's So Hard\",\n",
       " 'Who Let The Dogs Out',\n",
       " 'Carlene']"
      ]
     },
     "execution_count": 107,
     "metadata": {},
     "output_type": "execute_result"
    }
   ],
   "source": [
    "titles"
   ]
  },
  {
   "cell_type": "code",
   "execution_count": 151,
   "metadata": {},
   "outputs": [],
   "source": [
    "import ipynb"
   ]
  },
  {
   "cell_type": "code",
   "execution_count": 156,
   "metadata": {},
   "outputs": [],
   "source": [
    "from ipynb.fs.full.secret import clientSecret, clientID"
   ]
  },
  {
   "cell_type": "code",
   "execution_count": 78,
   "metadata": {},
   "outputs": [],
   "source": [
    "sp = spotipy.Spotify(auth_manager=SpotifyOAuth(client_id= clientID,\n",
    "                                               client_secret= clientSecret,\n",
    "                                               redirect_uri= \"http://example.com\",\n",
    "                                               scope=\"playlist-modify-private\",\n",
    "                                               show_dialog= True,\n",
    "                                               cache_path= \"token.txt\"))\n",
    "\n",
    "user_id = sp.current_user()[\"id\"]"
   ]
  },
  {
   "cell_type": "code",
   "execution_count": 87,
   "metadata": {},
   "outputs": [],
   "source": [
    "result = sp.search(q=f\"track:{song} year: {year}\", type=\"track\")"
   ]
  },
  {
   "cell_type": "code",
   "execution_count": 109,
   "metadata": {},
   "outputs": [],
   "source": [
    "uris = []"
   ]
  },
  {
   "cell_type": "code",
   "execution_count": 110,
   "metadata": {},
   "outputs": [
    {
     "name": "stdout",
     "output_type": "stream",
     "text": [
      "Doesn't Really Matter does not exist in spotify, skipped.\n",
      "Swear It Again does not exist in spotify, skipped.\n",
      "Purest Of Pain (A Puro Dolor) does not exist in spotify, skipped.\n",
      "What'Chu Like does not exist in spotify, skipped.\n",
      "Cold Day In July does not exist in spotify, skipped.\n",
      "With Arms Wide Open does not exist in spotify, skipped.\n",
      "Couldn't Last A Moment does not exist in spotify, skipped.\n",
      "Sour Girl does not exist in spotify, skipped.\n",
      "You'll Always Be Loved By Me does not exist in spotify, skipped.\n",
      "Don't Call Me Baby does not exist in spotify, skipped.\n"
     ]
    }
   ],
   "source": [
    "for title in titles:\n",
    "    result = sp.search(q=f\"track:{title} year: {year}\", type=\"track\")\n",
    "    try:\n",
    "        uri = result[\"tracks\"][\"items\"][0][\"uri\"]\n",
    "        uris.append(uri)\n",
    "    except IndexError:\n",
    "        print(f\"{title} does not exist in spotify, skipped.\")\n",
    "        pass"
   ]
  },
  {
   "cell_type": "code",
   "execution_count": 113,
   "metadata": {},
   "outputs": [],
   "source": [
    "playlist = sp.user_playlist_create(user=user_id, name=f\"{date} Billboard100\", public=False)"
   ]
  },
  {
   "cell_type": "code",
   "execution_count": 116,
   "metadata": {},
   "outputs": [
    {
     "data": {
      "text/plain": [
       "{'snapshot_id': 'MiwwZmYyNmRhZDM5NzI4MDA1MzI4ZjM1OTJkOWViMjA2NDgxYjk3MDQ2'}"
      ]
     },
     "execution_count": 116,
     "metadata": {},
     "output_type": "execute_result"
    }
   ],
   "source": [
    "sp.playlist_add_items(playlist_id=playlist[\"id\"], items=uris)"
   ]
  }
 ],
 "metadata": {
  "kernelspec": {
   "display_name": "base",
   "language": "python",
   "name": "python3"
  },
  "language_info": {
   "codemirror_mode": {
    "name": "ipython",
    "version": 3
   },
   "file_extension": ".py",
   "mimetype": "text/x-python",
   "name": "python",
   "nbconvert_exporter": "python",
   "pygments_lexer": "ipython3",
   "version": "3.9.13"
  },
  "orig_nbformat": 4
 },
 "nbformat": 4,
 "nbformat_minor": 2
}
